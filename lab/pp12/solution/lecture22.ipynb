{
 "cells": [
  {
   "cell_type": "markdown",
   "id": "1f88fd2e",
   "metadata": {
    "slideshow": {
     "slide_type": "slide"
    }
   },
   "source": [
    "# Lecture 22\n",
    "## Tuesday, November 15th, 2022\n",
    "### SQL Database Exercise (I)"
   ]
  },
  {
   "cell_type": "markdown",
   "id": "86d4e8a2",
   "metadata": {},
   "source": [
    "# `SQLite` Exercises\n",
    "\n",
    "Today you will work with the `candidates.txt` and `contributors.txt` datasets to\n",
    "create a database in `python` using `SQLite`. This is a hands-on lecture.\n",
    "You may do these tasks in a Jupyter notebook.\n",
    "\n",
    "The exercises will consist of a sequence of steps to help illustrate basic\n",
    "commands."
   ]
  },
  {
   "cell_type": "markdown",
   "id": "5169080a",
   "metadata": {
    "lines_to_next_cell": 2,
    "slideshow": {
     "slide_type": "subslide"
    }
   },
   "source": [
    "<a id='deliverables'></a>\n",
    "# Exercise Deliverables\n",
    "\n",
    "> 1. Copy the Jupyter notebook along with `candidates.txt` and\n",
    ">    `contributors.txt` into `lab/pp12` in your private Git repository and\n",
    ">    commit on your default branch.\n",
    "> 2. For each step in the exercise notebook, there are instructions labeled\n",
    ">    \"**Do the following:**\" (except for Setup and Interlude). Put all the code\n",
    ">    for those instructions in _code cell(s) immediately following the\n",
    ">    instructions_. The code in those cells should be regular Python code.\n",
    ">    You should place comments where appropriate that describe your intentions.\n",
    ">    **Note:** To get the\n",
    ">    `pandas` tables to display in a cell, use `display()`.\n",
    "> 3. Save and close your database.  Be sure to upload your database in\n",
    ">    `lab/pp12` as well.  Please name your database **`lecture22.sqlite`**."
   ]
  },
  {
   "cell_type": "markdown",
   "id": "8ec99aec",
   "metadata": {},
   "source": [
    "## Table of Contents\n",
    "\n",
    "[Setup](#setup)\n",
    "\n",
    "[Interlude](#interlude): Not required but highly recommended.\n",
    "\n",
    "[Step 1](#step_1)\n",
    "\n",
    "[Step 2](#step_2)\n",
    "\n",
    "[Step 3](#step_3)\n",
    "\n",
    "[Step 4](#step_4)\n",
    "\n",
    "[Step 5](#step_5)\n",
    "\n",
    "[Step 6](#step_6)\n",
    "\n",
    "[Step 7](#step_7)\n",
    "\n",
    "[Step 8](#step_8)\n"
   ]
  },
  {
   "cell_type": "markdown",
   "id": "e2d675f2",
   "metadata": {},
   "source": [
    "<a id='setup'></a>\n",
    "# Setup\n",
    "\n",
    "You should import `sqlite3` again like in the lecture."
   ]
  },
  {
   "cell_type": "code",
   "execution_count": null,
   "id": "5ae4c3de",
   "metadata": {},
   "outputs": [],
   "source": [
    "import sqlite3"
   ]
  },
  {
   "cell_type": "markdown",
   "id": "7ed24b1c",
   "metadata": {},
   "source": [
    "We will also use a basic `pandas` feature to display tables in the database."
   ]
  },
  {
   "cell_type": "code",
   "execution_count": null,
   "id": "17cb66df",
   "metadata": {},
   "outputs": [],
   "source": [
    "import pandas as pd\n",
    "pd.set_option('display.width', 500)\n",
    "pd.set_option('display.max_rows', None)\n",
    "pd.set_option('display.max_columns', 100)\n",
    "pd.set_option('display.notebook_repr_html', True)\n",
    "\n",
    "from IPython.display import display"
   ]
  },
  {
   "cell_type": "markdown",
   "id": "d8dd1e8c",
   "metadata": {},
   "source": [
    "Now we create the tables in the database (similar to lecture)."
   ]
  },
  {
   "cell_type": "code",
   "execution_count": null,
   "id": "a4d26382",
   "metadata": {},
   "outputs": [],
   "source": [
    "db = sqlite3.connect('lecture22.sqlite')\n",
    "cursor = db.cursor()\n",
    "cursor.execute(\"DROP TABLE IF EXISTS candidates\")\n",
    "cursor.execute(\"DROP TABLE IF EXISTS contributors\")\n",
    "cursor.execute(\"PRAGMA foreign_keys=1\")\n",
    "\n",
    "cursor.execute('''CREATE TABLE candidates (\n",
    "               id INTEGER PRIMARY KEY NOT NULL, \n",
    "               first_name TEXT, \n",
    "               last_name TEXT, \n",
    "               middle_name TEXT, \n",
    "               party TEXT NOT NULL)''')\n",
    "\n",
    "db.commit() # Commit changes to the database\n",
    "\n",
    "cursor.execute('''CREATE TABLE contributors (\n",
    "          id INTEGER PRIMARY KEY AUTOINCREMENT NOT NULL, \n",
    "          last_name TEXT, \n",
    "          first_name TEXT, \n",
    "          middle_name TEXT, \n",
    "          street_1 TEXT, \n",
    "          street_2 TEXT, \n",
    "          city TEXT, \n",
    "          state TEXT, \n",
    "          zip TEXT, \n",
    "          amount REAL, \n",
    "          date DATETIME, \n",
    "          candidate_id INTEGER NOT NULL, \n",
    "          FOREIGN KEY(candidate_id) REFERENCES candidates(id))''')\n",
    "\n",
    "db.commit()"
   ]
  },
  {
   "cell_type": "markdown",
   "id": "565905f4",
   "metadata": {},
   "source": [
    "Next we load the data for the candidates:"
   ]
  },
  {
   "cell_type": "code",
   "execution_count": null,
   "id": "c03cd9e4",
   "metadata": {},
   "outputs": [],
   "source": [
    "with open (\"candidates.txt\") as candidates:\n",
    "    next(candidates) # jump over the header\n",
    "    for line in candidates.readlines():\n",
    "        cid, first_name, last_name, middle_name, party = line.strip().split('|')\n",
    "        vals_to_insert = (int(cid), first_name, last_name, middle_name, party)\n",
    "        cursor.execute('''INSERT INTO candidates \n",
    "                  (id, first_name, last_name, middle_name, party)\n",
    "                  VALUES (?, ?, ?, ?, ?)''', vals_to_insert)\n",
    "db.commit()"
   ]
  },
  {
   "cell_type": "markdown",
   "id": "3376d4cf",
   "metadata": {},
   "source": [
    "<a id='interlude'></a>\n",
    "## Interlude\n",
    "\n",
    "Now that you have values in the tables of the database, it would be convenient\n",
    "to be able to visualize those tables in some way.  We'll write a little helper\n",
    "function to accomplish this."
   ]
  },
  {
   "cell_type": "code",
   "execution_count": null,
   "id": "6c7f25e4",
   "metadata": {
    "lines_to_next_cell": 1
   },
   "outputs": [],
   "source": [
    "def viz_tables(query, *, database=db):\n",
    "    return pd.read_sql_query(query, database)"
   ]
  },
  {
   "cell_type": "markdown",
   "id": "a87d1f25",
   "metadata": {},
   "source": [
    "Here's how we can use our helper function.  It gives a pretty nice visualization\n",
    "of our table."
   ]
  },
  {
   "cell_type": "code",
   "execution_count": null,
   "id": "32e98226",
   "metadata": {},
   "outputs": [],
   "source": [
    "viz_tables('''SELECT * FROM candidates''')"
   ]
  },
  {
   "cell_type": "markdown",
   "id": "95f3c986",
   "metadata": {},
   "source": [
    "<a id='step_1'></a>\n",
    "# Step 1\n",
    "\n",
    "We still need to load the data in the contributors table."
   ]
  },
  {
   "cell_type": "markdown",
   "id": "2b565194",
   "metadata": {},
   "source": [
    "### Do the following:\n",
    "\n",
    "* Load the data in the `contributors` table by loading the data from the\n",
    "  `contributors.txt` file.  **You are not allowed to use a `for`-loop in this\n",
    "  task (comprehensions are allowed)**.\n",
    "* Display the contributors table."
   ]
  },
  {
   "cell_type": "code",
   "execution_count": null,
   "id": "284ef042",
   "metadata": {},
   "outputs": [],
   "source": [
    "with open (\"contributors.txt\") as contributors:\n",
    "    next(contributors)  # skip header line\n",
    "    cursor.executemany(\n",
    "        '''INSERT INTO contributors\n",
    "           (last_name, first_name, middle_name, street_1, street_2, city,\n",
    "           state, zip, amount, date, candidate_id)\n",
    "           VALUES (?, ?, ?, ?, ?, ?, ?, ?, ?, ?, ?)''',\n",
    "        [row.strip().split('|')[1:] for row in contributors.readlines()])\n",
    "# Visualize the table\n",
    "display(viz_tables('''SELECT * FROM contributors'''))"
   ]
  },
  {
   "cell_type": "markdown",
   "id": "4328dbe5",
   "metadata": {},
   "source": [
    "<a id='step_2'></a>\n",
    "# Step 2:  Various Queries\n",
    "\n",
    "We can query our database for entries with certain characteristics.  For\n",
    "example, we can query the `candidates` table for entries whose middle name\n",
    "fields are not empty."
   ]
  },
  {
   "cell_type": "code",
   "execution_count": null,
   "id": "4bcfab4b",
   "metadata": {},
   "outputs": [],
   "source": [
    "query = '''SELECT * FROM candidates WHERE middle_name <> \"\"'''\n",
    "viz_tables(query)"
   ]
  },
  {
   "cell_type": "markdown",
   "id": "e4ca18ac",
   "metadata": {},
   "source": [
    "We can also see how many entries satisfy the query:"
   ]
  },
  {
   "cell_type": "code",
   "execution_count": null,
   "id": "6812cd34",
   "metadata": {},
   "outputs": [],
   "source": [
    "print(\"{} candidates have a middle initial.\".format(viz_tables(query).shape[0]))"
   ]
  },
  {
   "cell_type": "markdown",
   "id": "1ab67f46",
   "metadata": {},
   "source": [
    "This used the `shape` method on the returned `pandas` table. You'll get to\n",
    "practice counting in SQL later."
   ]
  },
  {
   "cell_type": "markdown",
   "id": "5536a6fd",
   "metadata": {},
   "source": [
    "### Do the following queries:\n",
    "\n",
    "* Display the contributors where the state is \"PA\"\n",
    "* Display the contributors where the amount contributed is greater than\n",
    "  $\\$1000.00$.\n",
    "* Display the contributors from the state \"UT\" where the amount contributed is\n",
    "  greater than $\\$1000.00$.\n",
    "* Display the contributors who didn't list their state\n",
    "  - **Hint**:  Match `state` to the empty string\n",
    "* Display the contributors from \"WA\" or \"PA\"\n",
    "* Display the contributors who contributed between $\\$100.00$ and $\\$200.00$.\n",
    "  - **Hint**: You can use the `BETWEEN 100.00 and 200.00` clause."
   ]
  },
  {
   "cell_type": "code",
   "execution_count": null,
   "id": "bf94d67c",
   "metadata": {},
   "outputs": [],
   "source": [
    "# State PA\n",
    "display(viz_tables('''SELECT * FROM contributors WHERE UPPER(state) = \"PA\"'''))\n",
    "# More than 1000.0\n",
    "display(viz_tables('''SELECT * FROM contributors WHERE amount > 1000.0'''))\n",
    "# More than 1000.0\n",
    "display(viz_tables('''SELECT * FROM contributors WHERE UPPER(state) = \"UT\" AND amount > 1000.0'''))\n",
    "# Unknown state\n",
    "display(viz_tables('''SELECT * FROM contributors WHERE state = \"\"'''))\n",
    "# Contributors from two states\n",
    "# Alternative: display(viz_tables('''SELECT * FROM contributors WHERE UPPER(state) IN (\"WA\", \"PA\")'''))\n",
    "display(viz_tables('''SELECT * FROM contributors WHERE UPPER(state) = \"WA\" OR UPPER(state) = \"PA\"'''))\n",
    "# Contributions between 100.0 and 200.0\n",
    "display(viz_tables('''SELECT * FROM contributors WHERE amount BETWEEN 100.0 AND 200.0'''))"
   ]
  },
  {
   "cell_type": "markdown",
   "id": "dd4b4fc2",
   "metadata": {},
   "source": [
    "<a id='step_3'></a>\n",
    "# Step 3:  Sorting\n",
    "\n",
    "It could be beneficial to sort by one of the attributes in the database.  The\n",
    "following cell contains a basic sorting demo. Run it and try to understand what\n",
    "happened."
   ]
  },
  {
   "cell_type": "code",
   "execution_count": null,
   "id": "f2605725",
   "metadata": {},
   "outputs": [],
   "source": [
    "viz_tables('''SELECT * FROM candidates ORDER BY id DESC''')"
   ]
  },
  {
   "cell_type": "markdown",
   "id": "a78003c5",
   "metadata": {},
   "source": [
    "### Do the following sorts on the specified tables:\n",
    "\n",
    "* Sort the `candidates` table by `last_name`.\n",
    "* Sort the `contributors` table by the `amount` in descending order where `amount`\n",
    "  is restricted to be between $\\$1000.00$ and $\\$5000.00$.\n",
    "  - **Hint:** In your SQL command, start with getting the amount between the\n",
    "    specified range followed by the sort. This will all be done in one line.\n",
    "* Sort the contributors who donated between $\\$1000.00$ and $\\$5000.00$ by\n",
    "  `candidate_id` and then by `amount` in descending order.\n",
    "  - **Hint**:  Multiple orderings can be accomplished by separating requests\n",
    "    after `ORDER BY` with commas.\n",
    "  - e.g. `ORDER BY amount ASC, last_name DESC`"
   ]
  },
  {
   "cell_type": "code",
   "execution_count": null,
   "id": "d5972f15",
   "metadata": {},
   "outputs": [],
   "source": [
    "# Sort candidates by last name\n",
    "display(viz_tables('''SELECT * FROM candidates ORDER BY last_name'''))\n",
    "# Sort by amount in decending order\n",
    "display(viz_tables('''SELECT * FROM contributors WHERE amount BETWEEN 1000.0 AND 5000.0 ORDER BY amount DESC'''))\n",
    "# Sort by amount in range and order by candidate_id and then by amount\n",
    "display(viz_tables('''SELECT * FROM contributors WHERE amount BETWEEN 1000.0 AND 5000.0 ORDER BY candidate_id, amount DESC'''))"
   ]
  },
  {
   "cell_type": "markdown",
   "id": "2b10726f",
   "metadata": {},
   "source": [
    "<a id='step_4'></a>\n",
    "# Step 4:  Selecting Columns\n",
    "\n",
    "So far, we've been selecting all columns from a table (i.e. `SELECT * FROM`).\n",
    "Often, we just want to select specific columns (e.g. `SELECT amount FROM`)."
   ]
  },
  {
   "cell_type": "code",
   "execution_count": null,
   "id": "c023518c",
   "metadata": {},
   "outputs": [],
   "source": [
    "viz_tables('''SELECT last_name, party FROM candidates''')"
   ]
  },
  {
   "cell_type": "markdown",
   "id": "76232b98",
   "metadata": {},
   "source": [
    "Using the `DISTINCT` clause, you remove duplicate rows."
   ]
  },
  {
   "cell_type": "code",
   "execution_count": null,
   "id": "e7554c17",
   "metadata": {},
   "outputs": [],
   "source": [
    "viz_tables('''SELECT DISTINCT party FROM candidates''')"
   ]
  },
  {
   "cell_type": "markdown",
   "id": "82068677",
   "metadata": {},
   "source": [
    "### Do the following:\n",
    "\n",
    "* Get the first and last name of contributors.  Make sure each row has distinct\n",
    "  values."
   ]
  },
  {
   "cell_type": "code",
   "execution_count": null,
   "id": "196da890",
   "metadata": {},
   "outputs": [],
   "source": [
    "display(viz_tables('''SELECT DISTINCT last_name, first_name FROM contributors'''))"
   ]
  },
  {
   "cell_type": "markdown",
   "id": "d6d0172c",
   "metadata": {},
   "source": [
    "<a id='step_5'></a>\n",
    "# Step 5:  Altering Tables\n",
    "\n",
    "The `ALTER` clause allows us to modify tables in our database.  Here, we add a\n",
    "new column to our candidates table called `full_name`."
   ]
  },
  {
   "cell_type": "code",
   "execution_count": null,
   "id": "e87849e5",
   "metadata": {},
   "outputs": [],
   "source": [
    "cursor.execute('''ALTER TABLE candidates ADD COLUMN full_name TEXT''')\n",
    "viz_tables('''SELECT * FROM candidates''')"
   ]
  },
  {
   "cell_type": "markdown",
   "id": "9a75bd21",
   "metadata": {},
   "source": [
    "What if we want to rename or delete a column?  It can't be done with `SQLite`\n",
    "with a single command.  We need to follow some roundabout steps (see [`SQLite`\n",
    "ALTER TABLE](http://www.sqlitetutorial.net/sqlite-alter-table/)).  We won't\n",
    "consider this case at the moment."
   ]
  },
  {
   "cell_type": "markdown",
   "id": "fc4b5d55",
   "metadata": {},
   "source": [
    "For now, let's put a few commands together to populate the `full_name` column."
   ]
  },
  {
   "cell_type": "code",
   "execution_count": null,
   "id": "97a2cbb3",
   "metadata": {},
   "outputs": [],
   "source": [
    "query = '''SELECT id, last_name, first_name FROM candidates''' # Select a few columns\n",
    "full_name_and_id = [(attr[1] + \", \" + attr[2], attr[0]) for attr in cursor.execute(query).fetchall()] # List of tuples: (full_name, id)\n",
    "\n",
    "update = '''UPDATE candidates SET full_name = ? WHERE id = ?''' # Update the table\n",
    "for rows in full_name_and_id:\n",
    "    cursor.execute(update, rows)\n",
    "\n",
    "query = '''SELECT * FROM candidates'''\n",
    "viz_tables(query)"
   ]
  },
  {
   "cell_type": "markdown",
   "id": "fe573952",
   "metadata": {},
   "source": [
    "Here's another update, this time on an existing column."
   ]
  },
  {
   "cell_type": "code",
   "execution_count": null,
   "id": "a595cfab",
   "metadata": {},
   "outputs": [],
   "source": [
    "update = '''UPDATE candidates SET full_name = \"WINNER\" WHERE last_name = \"Obama\"'''\n",
    "cursor.execute(update)\n",
    "update = '''UPDATE candidates SET full_name = \"RUNNER-UP\" WHERE last_name = \"McCain\"'''\n",
    "cursor.execute(update)\n",
    "viz_tables(query)"
   ]
  },
  {
   "cell_type": "markdown",
   "id": "6551e709",
   "metadata": {},
   "source": [
    "### Do the following:\n",
    "\n",
    "* Add a new column to the contributors table called `full_name`.  The value in\n",
    "  that column should be in the form `last_name, first_name`.\n",
    "* Change the value in the `full_name` column to the string `\"Too Much\"` if\n",
    "  someone donated more than $\\$1000.00$."
   ]
  },
  {
   "cell_type": "code",
   "execution_count": null,
   "id": "3724a1a3",
   "metadata": {},
   "outputs": [],
   "source": [
    "# Add full_name column\n",
    "cursor.execute('''ALTER TABLE contributors ADD COLUMN full_name TEXT''')\n",
    "query = '''SELECT id, last_name, first_name FROM contributors'''\n",
    "full_name_and_id = [(attr[1] + \", \" + attr[2], attr[0])\n",
    "                    for attr in cursor.execute(query).fetchall()]\n",
    "update = '''UPDATE contributors SET full_name = ? WHERE id = ?'''\n",
    "cursor.executemany(update, full_name_and_id)\n",
    "# Change full_name value to \"Too Much\"\n",
    "update = '''UPDATE contributors SET full_name = \"Too Much\" WHERE amount > 1000.0'''\n",
    "cursor.execute(update)\n",
    "display(viz_tables('''SELECT * FROM contributors'''))"
   ]
  },
  {
   "cell_type": "markdown",
   "id": "37e94656",
   "metadata": {},
   "source": [
    "<a id='step_6'></a>\n",
    "# Step 6: Aggregation\n",
    "\n",
    "You can perform reduction operations on the values in the database.  For\n",
    "example, you can compute the maximum, minimum, sum or the total number from\n",
    "multiple input values. Here's a little example:"
   ]
  },
  {
   "cell_type": "code",
   "execution_count": null,
   "id": "a7783c57",
   "metadata": {},
   "outputs": [],
   "source": [
    "viz_tables('''SELECT *, MAX(amount) AS max_amount FROM contributors''')"
   ]
  },
  {
   "cell_type": "markdown",
   "id": "1c7e58e9",
   "metadata": {},
   "source": [
    "### Do the following:\n",
    "\n",
    "* Modify the demo to only output the max amount.\n",
    "    * **Hints:**\n",
    "        - Instead of using `SELECT *, MAX(amount) ...` you can try `SELECT\n",
    "          MAX(amount) ...`\n",
    "        - You will want to use `cursor.execute()` here and then `fetchall()`.\n",
    "        - Do not display your results in a table. It is sufficient to write\n",
    "          the answer out to the screen as a single number.\n",
    "* Count how many donations there were above $\\$1000.00$.\n",
    "    * **Hint:** There is a `COUNT` function.\n",
    "* Calculate the average *positive* donation.\n",
    "    * **Hint:** There is an `AVG` function.\n",
    "* Calculate the average contribution from each state and display in a table.\n",
    "  Restrict to positive values again.\n",
    "  - **Hint**:  Use code that looks like: `\"SELECT state,SUM(amount) FROM\n",
    "    contributors GROUP BY state\"`."
   ]
  },
  {
   "cell_type": "code",
   "execution_count": null,
   "id": "102c0d4b",
   "metadata": {},
   "outputs": [],
   "source": [
    "# How many donations about $1000.00\n",
    "how_many = cursor.execute(\n",
    "    \"SELECT COUNT(amount) AS num_above FROM contributors WHERE amount > 1000.0\"\n",
    ")\n",
    "print(how_many.fetchall())\n",
    "# Average donation\n",
    "avg_don = cursor.execute(\n",
    "    \"SELECT AVG(amount) FROM contributors WHERE amount > 0.0\")\n",
    "print(avg_don.fetchall())\n",
    "# Average contribution from each state\n",
    "display(viz_tables('''SELECT state, AVG(amount) FROM contributors GROUP BY state'''))"
   ]
  },
  {
   "cell_type": "markdown",
   "id": "fd0388a3",
   "metadata": {},
   "source": [
    "<a id='step_7'></a>\n",
    "# Step 7: DELETE\n",
    "\n",
    "We have already noted that `SQLite` can't drop columns in a straightforward\n",
    "manner.  However, it can delete rows quite simply.  Here's the syntax:"
   ]
  },
  {
   "cell_type": "code",
   "execution_count": null,
   "id": "e2175466",
   "metadata": {},
   "outputs": [],
   "source": [
    "deletion = '''DELETE FROM table_name WHERE condition'''"
   ]
  },
  {
   "cell_type": "markdown",
   "id": "2732579a",
   "metadata": {},
   "source": [
    "### Do the following:\n",
    "\n",
    "* Delete rows in the `contributors` table with last name \"Ahrens\"."
   ]
  },
  {
   "cell_type": "code",
   "execution_count": null,
   "id": "012253ee",
   "metadata": {},
   "outputs": [],
   "source": [
    "# Delete a row\n",
    "deletion = '''DELETE FROM contributors WHERE last_name = \"Ahrens\"'''\n",
    "cursor.execute(deletion)\n",
    "display(viz_tables('''SELECT * FROM contributors'''))"
   ]
  },
  {
   "cell_type": "markdown",
   "id": "5d6b5179",
   "metadata": {},
   "source": [
    "<a id='step_8'></a>\n",
    "# Step 8:  LIMIT\n",
    "\n",
    "The `LIMIT` clause offers convenient functionality.  It allows you to constrain\n",
    "the number of rows returned by your query.  It shows up in many guises."
   ]
  },
  {
   "cell_type": "code",
   "execution_count": null,
   "id": "b5ec3caa",
   "metadata": {},
   "outputs": [],
   "source": [
    "viz_tables('''SELECT * FROM candidates LIMIT 3''')"
   ]
  },
  {
   "cell_type": "code",
   "execution_count": null,
   "id": "a965989d",
   "metadata": {},
   "outputs": [],
   "source": [
    "viz_tables('''SELECT * FROM candidates LIMIT 4 OFFSET 5''')"
   ]
  },
  {
   "cell_type": "code",
   "execution_count": null,
   "id": "66f37b02",
   "metadata": {},
   "outputs": [],
   "source": [
    "viz_tables('''SELECT * FROM candidates ORDER BY last_name LIMIT 4 OFFSET 5''')"
   ]
  },
  {
   "cell_type": "markdown",
   "id": "38b6dfe8",
   "metadata": {},
   "source": [
    "### Do the following:\n",
    "\n",
    "* Query and display the ten most generous donors.\n",
    "* Query and display the ten least generous donors who donated a positive amount\n",
    "  of money (since the data we have has some negative numbers in it...)."
   ]
  },
  {
   "cell_type": "code",
   "execution_count": null,
   "id": "1e03f1dc",
   "metadata": {},
   "outputs": [],
   "source": [
    "# 10 most generous donors\n",
    "display(viz_tables('''SELECT * FROM contributors ORDER BY amount DESC LIMIT 10'''))\n",
    "# 10 least generous donors\n",
    "display(viz_tables('''SELECT * FROM contributors WHERE amount > 0 ORDER BY amount LIMIT 10'''))"
   ]
  },
  {
   "cell_type": "markdown",
   "id": "afe108a4",
   "metadata": {},
   "source": [
    "# Save\n",
    "\n",
    "Don't forget to save all of these changes to your database using `db.commit()`.\n",
    "Before closing your editor or IDE, be sure to close the database connection with\n",
    "`db.close()`."
   ]
  },
  {
   "cell_type": "code",
   "execution_count": null,
   "id": "8c89bb05",
   "metadata": {},
   "outputs": [],
   "source": [
    "db.commit()\n",
    "db.close()"
   ]
  }
 ],
 "metadata": {
  "kernelspec": {
   "display_name": "Python 3",
   "language": "python",
   "name": "python3"
  }
 },
 "nbformat": 4,
 "nbformat_minor": 5
}
