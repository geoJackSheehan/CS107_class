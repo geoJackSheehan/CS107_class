{
 "cells": [
  {
   "cell_type": "markdown",
   "id": "93cbae4c",
   "metadata": {
    "slideshow": {
     "slide_type": "slide"
    }
   },
   "source": [
    "# Lecture 22\n",
    "## Tuesday, November 15th, 2022\n",
    "### SQL Database Exercise (I)"
   ]
  },
  {
   "cell_type": "markdown",
   "id": "c4895afc",
   "metadata": {},
   "source": [
    "# `SQLite` Exercises\n",
    "\n",
    "Today you will work with the `candidates.txt` and `contributors.txt` datasets to\n",
    "create a database in `python` using `SQLite`. This is a hands-on lecture.\n",
    "You may do these tasks in a Jupyter notebook.\n",
    "\n",
    "The exercises will consist of a sequence of steps to help illustrate basic\n",
    "commands."
   ]
  },
  {
   "cell_type": "markdown",
   "id": "813913ac",
   "metadata": {
    "lines_to_next_cell": 2,
    "slideshow": {
     "slide_type": "subslide"
    }
   },
   "source": [
    "<a id='deliverables'></a>\n",
    "# Exercise Deliverables\n",
    "\n",
    "> 1. Copy the Jupyter notebook along with `candidates.txt` and\n",
    ">    `contributors.txt` into `lab/pp12` in your private Git repository and\n",
    ">    commit on your default branch.\n",
    "> 2. For each step in the exercise notebook, there are instructions labeled\n",
    ">    \"**Do the following:**\" (except for Setup and Interlude). Put all the code\n",
    ">    for those instructions in _code cell(s) immediately following the\n",
    ">    instructions_. The code in those cells should be regular Python code.\n",
    ">    You should place comments where appropriate that describe your intentions.\n",
    ">    **Note:** To get the\n",
    ">    `pandas` tables to display in a cell, use `display()`.\n",
    "> 3. Save and close your database.  Be sure to upload your database in\n",
    ">    `lab/pp12` as well.  Please name your database **`lecture22.sqlite`**."
   ]
  },
  {
   "cell_type": "markdown",
   "id": "35b6d1a9",
   "metadata": {},
   "source": [
    "## Table of Contents\n",
    "\n",
    "[Setup](#setup)\n",
    "\n",
    "[Interlude](#interlude): Not required but highly recommended.\n",
    "\n",
    "[Step 1](#step_1)\n",
    "\n",
    "[Step 2](#step_2)\n",
    "\n",
    "[Step 3](#step_3)\n",
    "\n",
    "[Step 4](#step_4)\n",
    "\n",
    "[Step 5](#step_5)\n",
    "\n",
    "[Step 6](#step_6)\n",
    "\n",
    "[Step 7](#step_7)\n",
    "\n",
    "[Step 8](#step_8)\n"
   ]
  },
  {
   "cell_type": "markdown",
   "id": "3b6570e6",
   "metadata": {},
   "source": [
    "<a id='setup'></a>\n",
    "# Setup\n",
    "\n",
    "You should import `sqlite3` again like in the lecture."
   ]
  },
  {
   "cell_type": "code",
   "execution_count": null,
   "id": "a5e575a5",
   "metadata": {},
   "outputs": [],
   "source": [
    "import sqlite3"
   ]
  },
  {
   "cell_type": "markdown",
   "id": "b0aca704",
   "metadata": {},
   "source": [
    "We will also use a basic `pandas` feature to display tables in the database."
   ]
  },
  {
   "cell_type": "code",
   "execution_count": null,
   "id": "976d7b5f",
   "metadata": {},
   "outputs": [],
   "source": [
    "import pandas as pd\n",
    "pd.set_option('display.width', 500)\n",
    "pd.set_option('display.max_rows', None)\n",
    "pd.set_option('display.max_columns', 100)\n",
    "pd.set_option('display.notebook_repr_html', True)\n",
    "\n",
    "from IPython.display import display"
   ]
  },
  {
   "cell_type": "markdown",
   "id": "082acea0",
   "metadata": {},
   "source": [
    "Now we create the tables in the database (similar to lecture)."
   ]
  },
  {
   "cell_type": "code",
   "execution_count": null,
   "id": "e4a0d354",
   "metadata": {},
   "outputs": [],
   "source": [
    "db = sqlite3.connect('lecture22.sqlite')\n",
    "cursor = db.cursor()\n",
    "cursor.execute(\"DROP TABLE IF EXISTS candidates\")\n",
    "cursor.execute(\"DROP TABLE IF EXISTS contributors\")\n",
    "cursor.execute(\"PRAGMA foreign_keys=1\")\n",
    "\n",
    "cursor.execute('''CREATE TABLE candidates (\n",
    "               id INTEGER PRIMARY KEY NOT NULL, \n",
    "               first_name TEXT, \n",
    "               last_name TEXT, \n",
    "               middle_name TEXT, \n",
    "               party TEXT NOT NULL)''')\n",
    "\n",
    "db.commit() # Commit changes to the database\n",
    "\n",
    "cursor.execute('''CREATE TABLE contributors (\n",
    "          id INTEGER PRIMARY KEY AUTOINCREMENT NOT NULL, \n",
    "          last_name TEXT, \n",
    "          first_name TEXT, \n",
    "          middle_name TEXT, \n",
    "          street_1 TEXT, \n",
    "          street_2 TEXT, \n",
    "          city TEXT, \n",
    "          state TEXT, \n",
    "          zip TEXT, \n",
    "          amount REAL, \n",
    "          date DATETIME, \n",
    "          candidate_id INTEGER NOT NULL, \n",
    "          FOREIGN KEY(candidate_id) REFERENCES candidates(id))''')\n",
    "\n",
    "db.commit()"
   ]
  },
  {
   "cell_type": "markdown",
   "id": "fb30c3d5",
   "metadata": {},
   "source": [
    "Next we load the data for the candidates:"
   ]
  },
  {
   "cell_type": "code",
   "execution_count": null,
   "id": "3b70dc4e",
   "metadata": {
    "lines_to_next_cell": 2
   },
   "outputs": [],
   "source": [
    "with open (\"candidates.txt\") as candidates:\n",
    "    next(candidates) # jump over the header\n",
    "    for line in candidates.readlines():\n",
    "        cid, first_name, last_name, middle_name, party = line.strip().split('|')\n",
    "        vals_to_insert = (int(cid), first_name, last_name, middle_name, party)\n",
    "        cursor.execute('''INSERT INTO candidates \n",
    "                  (id, first_name, last_name, middle_name, party)\n",
    "                  VALUES (?, ?, ?, ?, ?)''', vals_to_insert)\n",
    "db.commit()"
   ]
  },
  {
   "cell_type": "markdown",
   "id": "ec092362",
   "metadata": {},
   "source": [
    "<a id='interlude'></a>\n",
    "## Interlude\n",
    "\n",
    "Now that you have values in the tables of the database, it would be convenient\n",
    "to be able to visualize those tables in some way.  We'll write a little helper\n",
    "function to accomplish this."
   ]
  },
  {
   "cell_type": "code",
   "execution_count": null,
   "id": "885c8e65",
   "metadata": {},
   "outputs": [],
   "source": [
    "def viz_tables(query, *, database=db):\n",
    "    return pd.read_sql_query(query, database)"
   ]
  },
  {
   "cell_type": "markdown",
   "id": "54160eb5",
   "metadata": {},
   "source": [
    "Here's how we can use our helper function.  It gives a pretty nice visualization\n",
    "of our table."
   ]
  },
  {
   "cell_type": "code",
   "execution_count": null,
   "id": "5cb6f058",
   "metadata": {
    "lines_to_next_cell": 2
   },
   "outputs": [],
   "source": [
    "viz_tables('''SELECT * FROM candidates''')"
   ]
  },
  {
   "cell_type": "markdown",
   "id": "4ee9ebf0",
   "metadata": {},
   "source": [
    "<a id='step_1'></a>\n",
    "# Step 1\n",
    "\n",
    "We still need to load the data in the contributors table."
   ]
  },
  {
   "cell_type": "markdown",
   "id": "55f108e2",
   "metadata": {},
   "source": [
    "### Do the following:\n",
    "\n",
    "* Load the data in the `contributors` table by loading the data from the\n",
    "  `contributors.txt` file.  **You are not allowed to use a `for`-loop in this\n",
    "  task (comprehensions are allowed)**.\n",
    "* Display the contributors table."
   ]
  },
  {
   "cell_type": "markdown",
   "id": "b9abda82",
   "metadata": {},
   "source": [
    "<a id='step_2'></a>\n",
    "# Step 2:  Various Queries\n",
    "\n",
    "We can query our database for entries with certain characteristics.  For\n",
    "example, we can query the `candidates` table for entries whose middle name\n",
    "fields are not empty."
   ]
  },
  {
   "cell_type": "code",
   "execution_count": null,
   "id": "973f46a1",
   "metadata": {},
   "outputs": [],
   "source": [
    "query = '''SELECT * FROM candidates WHERE middle_name <> \"\"'''\n",
    "viz_tables(query)"
   ]
  },
  {
   "cell_type": "markdown",
   "id": "60807ada",
   "metadata": {},
   "source": [
    "We can also see how many entries satisfy the query:"
   ]
  },
  {
   "cell_type": "code",
   "execution_count": null,
   "id": "ae2e9d22",
   "metadata": {},
   "outputs": [],
   "source": [
    "print(\"{} candidates have a middle initial.\".format(viz_tables(query).shape[0]))"
   ]
  },
  {
   "cell_type": "markdown",
   "id": "9bcb0e32",
   "metadata": {},
   "source": [
    "This used the `shape` method on the returned `pandas` table. You'll get to\n",
    "practice counting in SQL later."
   ]
  },
  {
   "cell_type": "markdown",
   "id": "7397085b",
   "metadata": {},
   "source": [
    "### Do the following queries:\n",
    "\n",
    "* Display the contributors where the state is \"PA\"\n",
    "* Display the contributors where the amount contributed is greater than\n",
    "  $\\$1000.00$.\n",
    "* Display the contributors from the state \"UT\" where the amount contributed is\n",
    "  greater than $\\$1000.00$.\n",
    "* Display the contributors who didn't list their state\n",
    "  - **Hint**:  Match `state` to the empty string\n",
    "* Display the contributors from \"WA\" or \"PA\"\n",
    "* Display the contributors who contributed between $\\$100.00$ and $\\$200.00$.\n",
    "  - **Hint**: You can use the `BETWEEN 100.00 and 200.00` clause."
   ]
  },
  {
   "cell_type": "markdown",
   "id": "79f589bb",
   "metadata": {},
   "source": [
    "<a id='step_3'></a>\n",
    "# Step 3:  Sorting\n",
    "\n",
    "It could be beneficial to sort by one of the attributes in the database.  The\n",
    "following cell contains a basic sorting demo. Run it and try to understand what\n",
    "happened."
   ]
  },
  {
   "cell_type": "code",
   "execution_count": null,
   "id": "8be6c4fb",
   "metadata": {},
   "outputs": [],
   "source": [
    "viz_tables('''SELECT * FROM candidates ORDER BY id DESC''')"
   ]
  },
  {
   "cell_type": "markdown",
   "id": "07fc2df1",
   "metadata": {},
   "source": [
    "### Do the following sorts on the specified tables:\n",
    "\n",
    "* Sort the `candidates` table by `last_name`.\n",
    "* Sort the `contributors` table by the `amount` in descending order where `amount`\n",
    "  is restricted to be between $\\$1000.00$ and $\\$5000.00$.\n",
    "  - **Hint:** In your SQL command, start with getting the amount between the\n",
    "    specified range followed by the sort. This will all be done in one line.\n",
    "* Sort the contributors who donated between $\\$1000.00$ and $\\$5000.00$ by\n",
    "  `candidate_id` and then by `amount` in descending order.\n",
    "  - **Hint**:  Multiple orderings can be accomplished by separating requests\n",
    "    after `ORDER BY` with commas.\n",
    "  - e.g. `ORDER BY amount ASC, last_name DESC`"
   ]
  },
  {
   "cell_type": "markdown",
   "id": "b77f01d8",
   "metadata": {},
   "source": [
    "<a id='step_4'></a>\n",
    "# Step 4:  Selecting Columns\n",
    "\n",
    "So far, we've been selecting all columns from a table (i.e. `SELECT * FROM`).\n",
    "Often, we just want to select specific columns (e.g. `SELECT amount FROM`)."
   ]
  },
  {
   "cell_type": "code",
   "execution_count": null,
   "id": "99c985ac",
   "metadata": {},
   "outputs": [],
   "source": [
    "viz_tables('''SELECT last_name, party FROM candidates''')"
   ]
  },
  {
   "cell_type": "markdown",
   "id": "02f44adb",
   "metadata": {},
   "source": [
    "Using the `DISTINCT` clause, you remove duplicate rows."
   ]
  },
  {
   "cell_type": "code",
   "execution_count": null,
   "id": "8384471d",
   "metadata": {},
   "outputs": [],
   "source": [
    "viz_tables('''SELECT DISTINCT party FROM candidates''')"
   ]
  },
  {
   "cell_type": "markdown",
   "id": "9c69c148",
   "metadata": {},
   "source": [
    "### Do the following:\n",
    "\n",
    "* Get the first and last name of contributors.  Make sure each row has distinct\n",
    "  values."
   ]
  },
  {
   "cell_type": "markdown",
   "id": "8d7e1ffb",
   "metadata": {},
   "source": [
    "<a id='step_5'></a>\n",
    "# Step 5:  Altering Tables\n",
    "\n",
    "The `ALTER` clause allows us to modify tables in our database.  Here, we add a\n",
    "new column to our candidates table called `full_name`."
   ]
  },
  {
   "cell_type": "code",
   "execution_count": null,
   "id": "5d7eb5c8",
   "metadata": {},
   "outputs": [],
   "source": [
    "cursor.execute('''ALTER TABLE candidates ADD COLUMN full_name TEXT''')\n",
    "viz_tables('''SELECT * FROM candidates''')"
   ]
  },
  {
   "cell_type": "markdown",
   "id": "b97cbadb",
   "metadata": {},
   "source": [
    "What if we want to rename or delete a column?  It can't be done with `SQLite`\n",
    "with a single command.  We need to follow some roundabout steps (see [`SQLite`\n",
    "ALTER TABLE](http://www.sqlitetutorial.net/sqlite-alter-table/)).  We won't\n",
    "consider this case at the moment."
   ]
  },
  {
   "cell_type": "markdown",
   "id": "7d2e3fc3",
   "metadata": {},
   "source": [
    "For now, let's put a few commands together to populate the `full_name` column."
   ]
  },
  {
   "cell_type": "code",
   "execution_count": null,
   "id": "7f2d99fc",
   "metadata": {},
   "outputs": [],
   "source": [
    "query = '''SELECT id, last_name, first_name FROM candidates''' # Select a few columns\n",
    "full_name_and_id = [(attr[1] + \", \" + attr[2], attr[0]) for attr in cursor.execute(query).fetchall()] # List of tuples: (full_name, id)\n",
    "\n",
    "update = '''UPDATE candidates SET full_name = ? WHERE id = ?''' # Update the table\n",
    "for rows in full_name_and_id:\n",
    "    cursor.execute(update, rows)\n",
    "\n",
    "query = '''SELECT * FROM candidates'''\n",
    "viz_tables(query)"
   ]
  },
  {
   "cell_type": "markdown",
   "id": "11680111",
   "metadata": {},
   "source": [
    "Here's another update, this time on an existing column."
   ]
  },
  {
   "cell_type": "code",
   "execution_count": null,
   "id": "419f8252",
   "metadata": {},
   "outputs": [],
   "source": [
    "update = '''UPDATE candidates SET full_name = \"WINNER\" WHERE last_name = \"Obama\"'''\n",
    "cursor.execute(update)\n",
    "update = '''UPDATE candidates SET full_name = \"RUNNER-UP\" WHERE last_name = \"McCain\"'''\n",
    "cursor.execute(update)\n",
    "viz_tables(query)"
   ]
  },
  {
   "cell_type": "markdown",
   "id": "c83d645a",
   "metadata": {},
   "source": [
    "### Do the following:\n",
    "\n",
    "* Add a new column to the contributors table called `full_name`.  The value in\n",
    "  that column should be in the form `last_name, first_name`.\n",
    "* Change the value in the `full_name` column to the string `\"Too Much\"` if\n",
    "  someone donated more than $\\$1000.00$."
   ]
  },
  {
   "cell_type": "markdown",
   "id": "f162d811",
   "metadata": {},
   "source": [
    "<a id='step_6'></a>\n",
    "# Step 6: Aggregation\n",
    "\n",
    "You can perform reduction operations on the values in the database.  For\n",
    "example, you can compute the maximum, minimum, sum or the total number from\n",
    "multiple input values. Here's a little example:"
   ]
  },
  {
   "cell_type": "code",
   "execution_count": null,
   "id": "becc8cd7",
   "metadata": {},
   "outputs": [],
   "source": [
    "viz_tables('''SELECT *, MAX(amount) AS max_amount FROM contributors''')"
   ]
  },
  {
   "cell_type": "markdown",
   "id": "b5332efb",
   "metadata": {},
   "source": [
    "### Do the following:\n",
    "\n",
    "* Modify the demo to only output the max amount.\n",
    "    * **Hints:**\n",
    "        - Instead of using `SELECT *, MAX(amount) ...` you can try `SELECT\n",
    "          MAX(amount) ...`\n",
    "        - You will want to use `cursor.execute()` here and then `fetchall()`.\n",
    "        - Do not display your results in a table. It is sufficient to write\n",
    "          the answer out to the screen as a single number.\n",
    "* Count how many donations there were above $\\$1000.00$.\n",
    "    * **Hint:** There is a `COUNT` function.\n",
    "* Calculate the average *positive* donation.\n",
    "    * **Hint:** There is an `AVG` function.\n",
    "* Calculate the average contribution from each state and display in a table.\n",
    "  Restrict to positive values again.\n",
    "  - **Hint**:  Use code that looks like: `\"SELECT state,SUM(amount) FROM\n",
    "    contributors GROUP BY state\"`.\n",
    "\n",
    "<a id='step_7'></a>\n",
    "# Step 7: DELETE\n",
    "\n",
    "We have already noted that `SQLite` can't drop columns in a straightforward\n",
    "manner.  However, it can delete rows quite simply.  Here's the syntax:"
   ]
  },
  {
   "cell_type": "code",
   "execution_count": null,
   "id": "e50981bb",
   "metadata": {},
   "outputs": [],
   "source": [
    "deletion = '''DELETE FROM table_name WHERE condition'''"
   ]
  },
  {
   "cell_type": "markdown",
   "id": "17bc148a",
   "metadata": {},
   "source": [
    "### Do the following:\n",
    "\n",
    "* Delete rows in the `contributors` table with last name \"Ahrens\".\n",
    "\n",
    "<a id='step_8'></a>\n",
    "# Step 8:  LIMIT\n",
    "\n",
    "The `LIMIT` clause offers convenient functionality.  It allows you to constrain\n",
    "the number of rows returned by your query.  It shows up in many guises."
   ]
  },
  {
   "cell_type": "code",
   "execution_count": null,
   "id": "c4ffeb0f",
   "metadata": {},
   "outputs": [],
   "source": [
    "viz_tables('''SELECT * FROM candidates LIMIT 3''')"
   ]
  },
  {
   "cell_type": "code",
   "execution_count": null,
   "id": "7364af8b",
   "metadata": {},
   "outputs": [],
   "source": [
    "viz_tables('''SELECT * FROM candidates LIMIT 4 OFFSET 5''')"
   ]
  },
  {
   "cell_type": "code",
   "execution_count": null,
   "id": "863cabe9",
   "metadata": {},
   "outputs": [],
   "source": [
    "viz_tables('''SELECT * FROM candidates ORDER BY last_name LIMIT 4 OFFSET 5''')"
   ]
  },
  {
   "cell_type": "markdown",
   "id": "6dba32f0",
   "metadata": {},
   "source": [
    "### Do the following:\n",
    "\n",
    "* Query and display the ten most generous donors.\n",
    "* Query and display the ten least generous donors who donated a positive amount\n",
    "  of money (since the data we have has some negative numbers in it...)."
   ]
  },
  {
   "cell_type": "markdown",
   "id": "caff0ad7",
   "metadata": {},
   "source": [
    "# Save\n",
    "\n",
    "Don't forget to save all of these changes to your database using `db.commit()`.\n",
    "Before closing your editor or IDE, be sure to close the database connection with\n",
    "`db.close()`."
   ]
  }
 ],
 "metadata": {
  "jupytext": {
   "formats": "md,ipynb"
  },
  "kernelspec": {
   "display_name": "Python 3",
   "language": "python",
   "name": "python3"
  }
 },
 "nbformat": 4,
 "nbformat_minor": 5
}
