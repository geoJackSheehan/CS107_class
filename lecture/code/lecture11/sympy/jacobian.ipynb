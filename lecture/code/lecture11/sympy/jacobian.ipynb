{
 "cells": [
  {
   "cell_type": "code",
   "execution_count": 1,
   "id": "ec28b876-491e-4a36-9f7a-9741091710a8",
   "metadata": {},
   "outputs": [],
   "source": [
    "# File       : jacobian.ipynb\n",
    "# Description: Compute the Jacobian of f(x) symbolically\n",
    "# Copyright 2021 Harvard University. All Rights Reserved.\n",
    "import sympy as sym"
   ]
  },
  {
   "cell_type": "markdown",
   "id": "ca02b856-bad2-4321-bc40-1b241e178564",
   "metadata": {},
   "source": [
    "Initialize the printing enginge:"
   ]
  },
  {
   "cell_type": "code",
   "execution_count": 2,
   "id": "43378bb3-7fb1-4353-b25d-a244aabbc1a8",
   "metadata": {},
   "outputs": [],
   "source": [
    "sym.init_printing()"
   ]
  },
  {
   "cell_type": "markdown",
   "id": "7a55d860-a790-42c6-9139-86bc8216f219",
   "metadata": {},
   "source": [
    "Define the symbolic variable $x$"
   ]
  },
  {
   "cell_type": "code",
   "execution_count": 3,
   "id": "b45dfea4-084e-45c5-bbf8-35c1d783151b",
   "metadata": {},
   "outputs": [],
   "source": [
    "x = sym.symbols('x')"
   ]
  },
  {
   "cell_type": "markdown",
   "id": "e2ee0254-3bc6-4b0c-8dc4-cf709cb51c51",
   "metadata": {},
   "source": [
    "Define the function $f(x)$"
   ]
  },
  {
   "cell_type": "code",
   "execution_count": 4,
   "id": "0d6e1538-8be1-4dfb-b277-2ffe5ba50510",
   "metadata": {},
   "outputs": [],
   "source": [
    "f = x - sym.exp(-2 * sym.sin(4 * x)**2)"
   ]
  },
  {
   "cell_type": "markdown",
   "id": "39954478-feda-44b6-898e-9db0d170123a",
   "metadata": {},
   "source": [
    "Compute the derivative $\\mathrm{d}f/\\mathrm{d}x$ (Jacobian)"
   ]
  },
  {
   "cell_type": "code",
   "execution_count": 5,
   "id": "e705c9bb-d927-428b-8273-574282294e24",
   "metadata": {},
   "outputs": [
    {
     "data": {
      "image/png": "[encoded data removed]",
      "text/latex": [
       "$\\displaystyle 1 + 16 e^{- 2 \\sin^{2}{\\left(4 x \\right)}} \\sin{\\left(4 x \\right)} \\cos{\\left(4 x \\right)}$"
      ],
      "text/plain": [
       "              2                       \n",
       "        -2⋅sin (4⋅x)                  \n",
       "1 + 16⋅ℯ            ⋅sin(4⋅x)⋅cos(4⋅x)"
      ]
     },
     "execution_count": 5,
     "metadata": {},
     "output_type": "execute_result"
    }
   ],
   "source": [
    "sym.diff(f, x)"
   ]
  }
 ],
 "metadata": {
  "kernelspec": {
   "display_name": "Python 3 (ipykernel)",
   "language": "python",
   "name": "python3"
  },
  "language_info": {
   "codemirror_mode": {
    "name": "ipython",
    "version": 3
   },
   "file_extension": ".py",
   "mimetype": "text/x-python",
   "name": "python",
   "nbconvert_exporter": "python",
   "pygments_lexer": "ipython3",
   "version": "3.9.7"
  }
 },
 "nbformat": 4,
 "nbformat_minor": 5
}
