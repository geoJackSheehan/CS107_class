{
 "cells": [
  {
   "cell_type": "markdown",
   "id": "8d63b077",
   "metadata": {},
   "source": [
    "# Lecture 23\n",
    "## Thursday, November 17th 2022\n",
    "### Joins with SQLite and Pandas"
   ]
  },
  {
   "cell_type": "markdown",
   "id": "bbe7abc2",
   "metadata": {},
   "source": [
    "## Starting Up\n",
    "\n",
    "You can connect to the saved database from Tuesday if you want.\n",
    "Alternatively, for extra practice, you can just recreate it from the datasets\n",
    "provided in the `.txt` files.\n",
    "\n",
    "# Exercise Deliverables\n",
    "\n",
    "> 1. Copy the Jupyter notebook into `lab/pp12` in your private Git repository and\n",
    ">    commit on your default branch.  You should already have the `candidates.txt` and\n",
    ">    `contributors.txt` data files in this directory from last time.\n",
    "> 2. For each exercise in the notebook, there are instructions labeled\n",
    ">    \"**Do the following:**\". Put all the code\n",
    ">    for those instructions in _code cell(s) immediately following the\n",
    ">    instructions_. The code in those cells should be regular Python code.\n",
    ">    You should place comments where appropriate that describe your intentions.\n",
    ">    **Note:** To get the\n",
    ">    Pandas tables to display in a cell, use `display()`.\n",
    "> 3. Save and close your database.  Be sure to upload your databases in\n",
    ">    `lab/pp12` as well.  Please name your databases **`lecture23.sqlite`**\n",
    ">    and **`lecture23_pandas.sqlite`**.\n"
   ]
  },
  {
   "cell_type": "code",
   "execution_count": null,
   "id": "ee27a7d0",
   "metadata": {},
   "outputs": [],
   "source": [
    "import sqlite3\n",
    "import numpy as np\n",
    "import pandas as pd\n",
    "import time\n",
    "\n",
    "pd.set_option('display.width', 500)\n",
    "pd.set_option('display.max_rows', None)\n",
    "pd.set_option('display.max_columns', 100)\n",
    "pd.set_option('display.notebook_repr_html', True)\n",
    "\n",
    "db = sqlite3.connect('lecture23.sqlite')\n",
    "cursor = db.cursor()\n",
    "cursor.execute(\"DROP TABLE IF EXISTS candidates\")\n",
    "cursor.execute(\"DROP TABLE IF EXISTS contributors\")\n",
    "cursor.execute(\"PRAGMA foreign_keys=1\")\n",
    "\n",
    "cursor.execute(\n",
    "    '''CREATE TABLE candidates (\n",
    "               id INTEGER PRIMARY KEY NOT NULL, \n",
    "               first_name TEXT, \n",
    "               last_name TEXT, \n",
    "               middle_name TEXT, \n",
    "               party TEXT NOT NULL)'''\n",
    ")\n",
    "\n",
    "db.commit()  # Commit changes to the database\n",
    "\n",
    "cursor.execute(\n",
    "    '''CREATE TABLE contributors (\n",
    "          id INTEGER PRIMARY KEY AUTOINCREMENT NOT NULL, \n",
    "          last_name TEXT, \n",
    "          first_name TEXT, \n",
    "          middle_name TEXT, \n",
    "          street_1 TEXT, \n",
    "          street_2 TEXT, \n",
    "          city TEXT, \n",
    "          state TEXT, \n",
    "          zip TEXT, \n",
    "          amount REAL, \n",
    "          date DATETIME, \n",
    "          candidate_id INTEGER NOT NULL, \n",
    "          FOREIGN KEY(candidate_id) REFERENCES candidates(id))'''\n",
    ")\n",
    "\n",
    "db.commit()\n",
    "\n",
    "with open(\"candidates.txt\") as candidates:\n",
    "    next(candidates)  # jump over the header\n",
    "    for line in candidates.readlines():\n",
    "        vals_to_insert = line.strip().split('|')\n",
    "        cursor.execute(\n",
    "            '''INSERT INTO candidates \n",
    "                  (id, first_name, last_name, middle_name, party)\n",
    "                  VALUES (?, ?, ?, ?, ?)''', vals_to_insert\n",
    "        )\n",
    "\n",
    "with open(\"contributors.txt\") as contributors:\n",
    "    next(contributors)  # jump over the header\n",
    "    for line in contributors.readlines():\n",
    "        vals_to_insert = line.strip().split('|')[1:]\n",
    "        cursor.execute(\n",
    "            '''INSERT INTO contributors (last_name, first_name, middle_name, \n",
    "                           street_1, street_2, city, state, zip, amount, date, candidate_id) \n",
    "                           VALUES (?, ?, ?, ?, ?, ?, ?, ?, ?, ?, ?)''',\n",
    "            vals_to_insert\n",
    "        )\n",
    "\n",
    "\n",
    "def viz_tables(query, *, database=db):\n",
    "    return pd.read_sql_query(query, database)\n",
    "\n",
    "from IPython.display import display"
   ]
  },
  {
   "cell_type": "markdown",
   "id": "4ab0105a",
   "metadata": {},
   "source": [
    "## Recap\n",
    "\n",
    "Last time, you played with a number of SQLite commands to query and update the\n",
    "tables in the database.\n",
    "\n",
    "One thing we didn't get to was how to query the contributors table based off\n",
    "of a query in the candidates table (parent/child relationships).  For example,\n",
    "suppose you want to query which contributors donated to Obama. You could use a\n",
    "nested `SELECT` statement to accomplish that."
   ]
  },
  {
   "cell_type": "code",
   "execution_count": null,
   "id": "b2e61c76",
   "metadata": {},
   "outputs": [],
   "source": [
    "viz_tables(\n",
    "    '''SELECT * FROM contributors WHERE candidate_id = (SELECT id from candidates WHERE last_name = \"Obama\")'''\n",
    ")"
   ]
  },
  {
   "cell_type": "markdown",
   "id": "2801fdb8",
   "metadata": {},
   "source": [
    "# Joins\n",
    "\n",
    "The last example involved querying data from multiple tables.\n",
    "\n",
    "In particular, we combined columns from the two related tables (related through\n",
    "the `FOREIGN KEY`).\n",
    "\n",
    "This leads to the idea of *joining* multiple tables together.  SQL has a set\n",
    "of commands to handle different types of joins.  SQLite does not support the\n",
    "full suite of join commands offered by SQL but you should still be able to get\n",
    "the main ideas from the limited command set.\n",
    "\n",
    "We'll begin with the `INNER JOIN`."
   ]
  },
  {
   "cell_type": "markdown",
   "id": "c9695740",
   "metadata": {},
   "source": [
    "## INNER JOIN\n",
    "\n",
    "The idea here is that you will combine the tables if the values of certain\n",
    "columns are the same between the two tables.  In our example, we will join the\n",
    "two tables based on the candidate `id`.  The result of the `INNER JOIN` will be\n",
    "a new table consisting of the columns we requested and containing the common\n",
    "data.  Since we are joining based off of the candidate `id`, we will not be\n",
    "excluding any rows.\n",
    "\n",
    "### Example\n",
    "\n",
    "Here are two tables.  Table A has the form:\n",
    "\n",
    "| nA   | attr  | id  |\n",
    "|:----:|:-----:|:---:|\n",
    "| s1   | 23    | 0   |\n",
    "| s2   | 7     | 2   |\n",
    "\n",
    "and table B has the form:\n",
    "\n",
    "| nB   | attr  | id  |\n",
    "|:----:|:-----:|:---:|\n",
    "| t1   | 60    | 0   |\n",
    "| t2   | 14    | 7   |\n",
    "| t3   | 22    | 2   |\n",
    "\n",
    "Table A is associated with Table B through a foreign key on the id column.\n",
    "\n",
    "If we join the two tables by comparing the id columns and selecting the nA, nB,\n",
    "and attr columns then we'll get\n",
    "\n",
    "| nA   | A.attr  | nB  | B.attr |\n",
    "|:----:|:-------:|:---:|:------:|\n",
    "| s1   | 23      | t1  | 60     |\n",
    "| s2   | 7       | t3  | 22     |\n",
    "\n",
    "\n",
    "The SQLite code to do this join would be\n",
    "\n",
    "```SQL\n",
    "SELECT nA, A.attr, nB, B.attr FROM A INNER JOIN B ON B.id = A.id\n",
    "```\n",
    "\n",
    "Notice that the second row in table B is gone because the id values are not the\n",
    "same.\n",
    "\n",
    "### Visualization\n",
    "\n",
    "What is SQL doing with this operation?  It may help to visualize this with a\n",
    "Venn diagram.  Table A has rows with values corresponding to the `id`\n",
    "attribute.  Table B has rows with values corresponding to the `id` attribute.\n",
    "The `INNER JOIN` will combine the two tables such that rows with common entries\n",
    "in the `id` fields are included.  We essentially have the following Venn\n",
    "diagram.\n",
    "\n",
    "![](./fig/inner_join.png)"
   ]
  },
  {
   "cell_type": "markdown",
   "id": "1c12c276",
   "metadata": {},
   "source": [
    "## Do the following:\n",
    "\n",
    "1. Using an `INNER JOIN`, join the `candidates` and `contributors` tables by\n",
    "   comparing the `id` column in the `candidates` table with the `candidate_id`\n",
    "   column in the `contributors` table.  Display your joined table with the\n",
    "   columns `contributors.last_name`, `contributors.first_name`, `amount` and\n",
    "   `candidates.last_name`.\n",
    "2. Do the same inner join as above, but this time append a `WHERE`\n",
    "   clause to select a specific candidate's last name.\n"
   ]
  },
  {
   "cell_type": "markdown",
   "id": "8e462543",
   "metadata": {},
   "source": [
    "## `LEFT JOIN` or `LEFT OUTER JOIN`\n",
    "\n",
    "There are many ways to combine two tables.  We just explored one possibility in\n",
    "which we combined the tables based upon the intersection of the two tables (the\n",
    "`INNER JOIN`).\n",
    "\n",
    "Now we'll look at the `LEFT JOIN` (or `LEFT OUTER JOIN` in some databases).\n",
    "\n",
    "In words, the `LEFT JOIN` is combining the tables based upon what is in the\n",
    "intersection of the two tables *and* what is in the \"reference\" table (left\n",
    "table in the SQL command).\n",
    "\n",
    "We can consider our toy example in two guises:\n",
    "\n",
    "#### Example A\n",
    "\n",
    "Let's do a `LEFT JOIN` of table B from table A.  That is, we'd like to make a\n",
    "new table by putting table B into table A.  In this case, we'll consider table A\n",
    "our \"reference\" table.  We're comparing by the `id` column again.  We know that\n",
    "these two tables share ids 0 and 2 and table A doesn't have anything else in it.\n",
    "The resulting table is:\n",
    "\n",
    "| nA   | A.attr  | nB  | B.attr |\n",
    "|:----:|:-------:|:---:|:------:|\n",
    "| s1   | 23      | t1  | 60     |\n",
    "| s2   | 7       | t3  | 22     |\n",
    "\n",
    "That's not very exciting.  It's the same result as from the `INNER JOIN`.  We\n",
    "can do another example that may be more enlightening.\n",
    "\n",
    "#### Example B\n",
    "\n",
    "Let's do a `LEFT JOIN` of table A from table B.  That is, we'd like to make a\n",
    "new table by putting table A into table B.  In this case, we'll consider table B\n",
    "our \"reference\" table.  Again, we use the `id` column from comparison.  We know\n",
    "that these two tables share ids 0 and 2.  This time, table B also contains the\n",
    "id 7, which is not shared by table A.  The resulting table is:\n",
    "\n",
    "| nA   | A.attr  | nB  | B.attr |\n",
    "|:----:|:-------:|:---:|:------:|\n",
    "| s1   | 23      | t1  | 60     |\n",
    "| NULL | NULL    | t2  | 14     |\n",
    "| s2   | 7       | t3  | 22     |\n",
    "\n",
    "Notice that SQLite filled in the missing entries for us.  This is necessary\n",
    "for completion of the requested join.\n",
    "\n",
    "The SQLite commands to accomplish all of this are:\n",
    "\n",
    "```SQL\n",
    "SELECT nA, A.attr, nB, B.attr FROM A LEFT JOIN B ON B.id = A.id\n",
    "```\n",
    "\n",
    "and\n",
    "\n",
    "```SQL\n",
    "SELECT nA, A.attr, nB, B.attr FROM B LEFT JOIN A ON A.id = B.id\n",
    "```\n",
    "\n",
    "Here is a visualization using Venn diagrams of the `LEFT JOIN`.\n",
    "\n",
    "![](./fig/left_join.png)"
   ]
  },
  {
   "cell_type": "markdown",
   "id": "e2146d49",
   "metadata": {},
   "source": [
    "## Do the following:\n",
    "\n",
    "Use the following two tables to do the first two exercises in this section.\n",
    "Table A has the form:\n",
    "\n",
    "| nA   | attr  | id  |\n",
    "|:----:|:-----:|:---:|\n",
    "| s1   | 23    | 0   |\n",
    "| s2   | 7     | 2   |\n",
    "| s3   | 15    | 3   |\n",
    "| s4   | 31    | 7   |\n",
    "\n",
    "and table B has the form:\n",
    "\n",
    "| nB   | attr  | id  |\n",
    "|:----:|:-----:|:---:|\n",
    "| t1   | 60    | 0   |\n",
    "| t2   | 14    | 7   |\n",
    "| t3   | 22    | 2   |\n",
    "\n",
    "1. Write the markdown table that would result from a `LEFT JOIN` using table A\n",
    "   as the reference and the `id` columns for comparison.  Example with arbitrary\n",
    "   column names:\n",
    "   ```md\n",
    "   | Col1 | Col2 | Col3 | Col4 |\n",
    "   |:----:|:----:|:----:|:----:|\n",
    "   | val1 | val2 | val3 | val4 |\n",
    "   | val5 | val6 | val7 | val8 |\n",
    "   ```\n",
    "2. Write the markdown table that would result from a `LEFT JOIN` using table B\n",
    "   as the reference and the `id` columns for comparison.\n",
    "3. Now back to the candidates and their contributors.  Create a new table with\n",
    "   the following form:\n",
    "\n",
    "   | average contribution | candidate last name |\n",
    "   |:--------------------:|:-------------------:|\n",
    "   |    ...               |    ...              |\n",
    "\n",
    "   The table should be created using the `LEFT JOIN` clause on the\n",
    "   `contributors` table by joining the `candidates` table using the `id`\n",
    "   column. The `average contribution` column should be obtained using the\n",
    "   `AVG()` SQL function. Use the `GROUP BY` clause on the `candidates` last\n",
    "   name.\n",
    "\n",
    "---"
   ]
  },
  {
   "cell_type": "markdown",
   "id": "7a608a69",
   "metadata": {},
   "source": [
    "# Pandas"
   ]
  },
  {
   "cell_type": "markdown",
   "id": "e9962018",
   "metadata": {},
   "source": [
    "We've been working with databases for the last few lectures and learning\n",
    "SQLite commands to work with and manipulate the SQL databases.  Pandas is\n",
    "a powerful Python package that provides broad support for data structures.  It\n",
    "can be used to interact with relational databases through its own methods and\n",
    "even through SQL commands.\n",
    "\n",
    "> In the last part of this lecture, you will get to redo a number of the\n",
    "> previous database exercises using Pandas.\n",
    "\n",
    "We won't be able to cover Pandas from the ground up, but it's a\n",
    "well-documented library and is fairly easy to get up and running.  The website\n",
    "can be found at the following link: [Pandas](http://pandas.pydata.org/).  A\n",
    "very good reference for Pandas is the book [\"Python for data\n",
    "analysis\"](https://www.amazon.com/gp/product/1491957662/ref=as_li_tl?ie=UTF8&tag=quantpytho-20&camp=1789&creative=9325&linkCode=as2&creativeASIN=1491957662&linkId=8c3bf87b221dbcd8f541f0db20d4da83)\n",
    "by Wes McKinney, the creator of Pandas himself."
   ]
  },
  {
   "cell_type": "markdown",
   "id": "c3b3f76d",
   "metadata": {},
   "source": [
    "## Reading a datafile into Pandas"
   ]
  },
  {
   "cell_type": "code",
   "execution_count": null,
   "id": "daf5676d",
   "metadata": {},
   "outputs": [],
   "source": [
    "# Using Pandas naming convention\n",
    "dfcand = pd.read_csv(\"candidates.txt\", sep=\"|\")\n",
    "dfcand"
   ]
  },
  {
   "cell_type": "code",
   "execution_count": null,
   "id": "38244660",
   "metadata": {},
   "outputs": [],
   "source": [
    "dfcontr = pd.read_csv(\"contributors.txt\", sep=\"|\")\n",
    "dfcontr"
   ]
  },
  {
   "cell_type": "markdown",
   "id": "1f989838",
   "metadata": {},
   "source": [
    "Reading things in is quite easy with Pandas. Notice that Pandas populates\n",
    "empty fields with `NaN` values. The `id` column in the `contributors` dataset is\n",
    "superfluous.  Let's delete it."
   ]
  },
  {
   "cell_type": "code",
   "execution_count": null,
   "id": "c69cbd93",
   "metadata": {},
   "outputs": [],
   "source": [
    "del dfcontr['id']\n",
    "dfcontr.head()"
   ]
  },
  {
   "cell_type": "markdown",
   "id": "1177054b",
   "metadata": {},
   "source": [
    "Very nice!  And we used the `head` method to print out the first five rows."
   ]
  },
  {
   "cell_type": "markdown",
   "id": "372c68d9",
   "metadata": {},
   "source": [
    "## Creating a Table with Pandas\n",
    "\n",
    "We can use Pandas to create tables in a database. First, let's create a new\n",
    "(empty) SQLite database:"
   ]
  },
  {
   "cell_type": "code",
   "execution_count": null,
   "id": "4830fb87",
   "metadata": {},
   "outputs": [],
   "source": [
    "# commit the previous work\n",
    "db.commit()\n",
    "\n",
    "# new database for Pandas operations\n",
    "db = sqlite3.connect('lecture23_pandas.sqlite')\n",
    "cursor = db.cursor()\n",
    "cursor.execute(\"DROP TABLE IF EXISTS candidates\")\n",
    "cursor.execute(\"DROP TABLE IF EXISTS contributors\")\n",
    "cursor.execute(\"PRAGMA foreign_keys=1\")\n",
    "\n",
    "cursor.execute(\n",
    "    '''CREATE TABLE candidates (\n",
    "               id INTEGER PRIMARY KEY NOT NULL, \n",
    "               first_name TEXT, \n",
    "               last_name TEXT, \n",
    "               middle_name TEXT, \n",
    "               party TEXT NOT NULL)'''\n",
    ")\n",
    "\n",
    "db.commit()  # Commit changes to the database\n",
    "\n",
    "cursor.execute(\n",
    "    '''CREATE TABLE contributors (\n",
    "          id INTEGER PRIMARY KEY AUTOINCREMENT NOT NULL, \n",
    "          last_name TEXT, \n",
    "          first_name TEXT, \n",
    "          middle_name TEXT, \n",
    "          street_1 TEXT, \n",
    "          street_2 TEXT, \n",
    "          city TEXT, \n",
    "          state TEXT, \n",
    "          zip TEXT, \n",
    "          amount REAL, \n",
    "          date DATETIME, \n",
    "          candidate_id INTEGER NOT NULL, \n",
    "          FOREIGN KEY(candidate_id) REFERENCES candidates(id))'''\n",
    ")\n",
    "\n",
    "db.commit()"
   ]
  },
  {
   "cell_type": "markdown",
   "id": "3d335768",
   "metadata": {},
   "source": [
    "Last time, we opened the data files with Python and then manually used\n",
    "SQLite commands to populate the individual tables.  We can use Pandas\n",
    "instead like so:"
   ]
  },
  {
   "cell_type": "code",
   "execution_count": null,
   "id": "2ef39d41",
   "metadata": {},
   "outputs": [],
   "source": [
    "dfcand.to_sql(\"candidates\", db, if_exists=\"append\", index=False)"
   ]
  },
  {
   "cell_type": "markdown",
   "id": "74e41652",
   "metadata": {},
   "source": [
    "What is the size of our table?"
   ]
  },
  {
   "cell_type": "code",
   "execution_count": null,
   "id": "dda8ab8a",
   "metadata": {},
   "outputs": [],
   "source": [
    "dfcand.shape"
   ]
  },
  {
   "cell_type": "markdown",
   "id": "bccda7d1",
   "metadata": {},
   "source": [
    "We can visualize the data in our Pandas-populated SQL table.  No surprises\n",
    "here except that Pandas did everything for us (contrast this to our manual\n",
    "file read last time using `for`-loops and list comprehensions)."
   ]
  },
  {
   "cell_type": "code",
   "execution_count": null,
   "id": "7205d082",
   "metadata": {},
   "outputs": [],
   "source": [
    "display(viz_tables('''SELECT * FROM candidates'''))"
   ]
  },
  {
   "cell_type": "markdown",
   "id": "6463c34e",
   "metadata": {},
   "source": [
    "## Querying a table with Pandas"
   ]
  },
  {
   "cell_type": "markdown",
   "id": "09479688",
   "metadata": {},
   "source": [
    "### One Way\n",
    "\n",
    "Using the `query` method:"
   ]
  },
  {
   "cell_type": "code",
   "execution_count": null,
   "id": "4dfdae96",
   "metadata": {},
   "outputs": [],
   "source": [
    "dfcand.query(\"first_name=='Mike' & party=='D'\")"
   ]
  },
  {
   "cell_type": "markdown",
   "id": "8d5ac2e6",
   "metadata": {},
   "source": [
    "### Another Way\n",
    "\n",
    "Using the `__getitem__` special method:"
   ]
  },
  {
   "cell_type": "code",
   "execution_count": null,
   "id": "a0ff20ba",
   "metadata": {},
   "outputs": [],
   "source": [
    "dfcand[(dfcand.first_name==\"Mike\") & (dfcand.party==\"D\")]"
   ]
  },
  {
   "cell_type": "markdown",
   "id": "d0443eef",
   "metadata": {},
   "source": [
    "### More Queries"
   ]
  },
  {
   "cell_type": "code",
   "execution_count": null,
   "id": "6e9d78ac",
   "metadata": {},
   "outputs": [],
   "source": [
    "dfcand[dfcand.middle_name.notnull()]"
   ]
  },
  {
   "cell_type": "code",
   "execution_count": null,
   "id": "dd900a67",
   "metadata": {},
   "outputs": [],
   "source": [
    "dfcand[dfcand.first_name.isin(['Mike', 'Hillary'])]"
   ]
  },
  {
   "cell_type": "markdown",
   "id": "55a51695",
   "metadata": {},
   "source": [
    "## Do the following:\n",
    "\n",
    "1. Use Pandas to populate the contributors table in the SQLite database and\n",
    "   display the SQL table with the `viz_tables` helper.\n",
    "2. Query the `contributors` Pandas `DataFrame` with the following constraints:\n",
    "  1. List entries where the state is \"VA\" and the amount is less than\n",
    "     $\\$400.00$.\n",
    "  2. List entries where the state is \"NULL\".\n",
    "  3. List entries for the states of Texas and Pennsylvania.\n",
    "  4. List entries where the amount contributed is between $\\$10.00$ and\n",
    "     $\\$50.00$."
   ]
  },
  {
   "cell_type": "markdown",
   "id": "0b46cc6e",
   "metadata": {},
   "source": [
    "## Sorting"
   ]
  },
  {
   "cell_type": "code",
   "execution_count": null,
   "id": "8c5a40bf",
   "metadata": {},
   "outputs": [],
   "source": [
    "dfcand.sort_values(by='party')"
   ]
  },
  {
   "cell_type": "code",
   "execution_count": null,
   "id": "499d7aa0",
   "metadata": {},
   "outputs": [],
   "source": [
    "dfcand.sort_values(by='party', ascending=False)"
   ]
  },
  {
   "cell_type": "markdown",
   "id": "4364b1bc",
   "metadata": {},
   "source": [
    "## Selecting Columns"
   ]
  },
  {
   "cell_type": "code",
   "execution_count": null,
   "id": "baf9374f",
   "metadata": {},
   "outputs": [],
   "source": [
    "dfcand[['last_name', 'party']]"
   ]
  },
  {
   "cell_type": "code",
   "execution_count": null,
   "id": "e1232473",
   "metadata": {},
   "outputs": [],
   "source": [
    "dfcand[['last_name', 'party']].count()"
   ]
  },
  {
   "cell_type": "code",
   "execution_count": null,
   "id": "cfd06fa6",
   "metadata": {},
   "outputs": [],
   "source": [
    "dfcand[['first_name']].drop_duplicates()"
   ]
  },
  {
   "cell_type": "code",
   "execution_count": null,
   "id": "830863f8",
   "metadata": {},
   "outputs": [],
   "source": [
    "dfcand[['first_name']].drop_duplicates().count()"
   ]
  },
  {
   "cell_type": "markdown",
   "id": "1a5e16fa",
   "metadata": {},
   "source": [
    "## Do the following:\n",
    "\n",
    "Use the `contributors` Pandas `DataFrame` and the `display` helper to\n",
    "display the results.\n",
    "\n",
    "1. Sort the `DataFrame` by `amount` and order in *descending* order.\n",
    "2. Select the `first_name` and `amount` columns.\n",
    "3. Select the `last_name` and `first_name` columns and drop duplicates.\n",
    "4. Count how many there are after the duplicates have been dropped."
   ]
  },
  {
   "cell_type": "markdown",
   "id": "89e753b0",
   "metadata": {},
   "source": [
    "## Altering Tables"
   ]
  },
  {
   "cell_type": "markdown",
   "id": "dc563f80",
   "metadata": {},
   "source": [
    "Creating a new column is quite easy with Pandas."
   ]
  },
  {
   "cell_type": "code",
   "execution_count": null,
   "id": "2c565bc3",
   "metadata": {},
   "outputs": [],
   "source": [
    "dfcand['name'] = dfcand['last_name'] + \", \" + dfcand['first_name']\n",
    "dfcand"
   ]
  },
  {
   "cell_type": "markdown",
   "id": "6933f2cd",
   "metadata": {},
   "source": [
    "We can change an existing field as well (see the [`loc`\n",
    "method](https://pandas.pydata.org/pandas-docs/stable/reference/api/pandas.DataFrame.loc.html)):"
   ]
  },
  {
   "cell_type": "code",
   "execution_count": null,
   "id": "beed2150",
   "metadata": {},
   "outputs": [],
   "source": [
    "dfcand.loc[dfcand.first_name == \"Mike\", \"name\"]"
   ]
  },
  {
   "cell_type": "code",
   "execution_count": null,
   "id": "07415edc",
   "metadata": {},
   "outputs": [],
   "source": [
    "dfcand.loc[dfcand.first_name == \"Mike\", \"name\"] = \"Mikey\"\n",
    "dfcand"
   ]
  },
  {
   "cell_type": "code",
   "execution_count": null,
   "id": "c8f5ce9c",
   "metadata": {},
   "outputs": [],
   "source": [
    "dfcand.query(\"first_name == 'Mike'\")\n",
    "dfcand"
   ]
  },
  {
   "cell_type": "markdown",
   "id": "0c1ef2e3",
   "metadata": {},
   "source": [
    "You may recall that SQLite doesn't have the functionality to drop a column.\n",
    "It can be done in one line using Pandas:"
   ]
  },
  {
   "cell_type": "code",
   "execution_count": null,
   "id": "5055a447",
   "metadata": {},
   "outputs": [],
   "source": [
    "del dfcand['name']\n",
    "dfcand"
   ]
  },
  {
   "cell_type": "markdown",
   "id": "d8843e4a",
   "metadata": {},
   "source": [
    "## Do the following:\n",
    "\n",
    "Use the `contributors` Pandas `DataFrame` and the `display` helper to\n",
    "display the results.\n",
    "\n",
    "1. Create a `name` column for the `contributors` table with field entries of the\n",
    "   form \"last name, first name\"\n",
    "2. For contributors from the state of \"PA\", change `name` to \"X\".\n",
    "3. Delete the newly created name column."
   ]
  },
  {
   "cell_type": "markdown",
   "id": "b0080e20",
   "metadata": {},
   "source": [
    "## Aggregation\n",
    "\n",
    "We'd like to get information about the tables such as the maximum amount\n",
    "contributed to the candidates.  Basic statistics on a Pandas frame can be\n",
    "obtained using the `describe()` method:"
   ]
  },
  {
   "cell_type": "code",
   "execution_count": null,
   "id": "66937b4b",
   "metadata": {},
   "outputs": [],
   "source": [
    "dfcand.describe()"
   ]
  },
  {
   "cell_type": "markdown",
   "id": "4bfe4c7f",
   "metadata": {},
   "source": [
    "It's not very interesting with the candidates table because the candidates table\n",
    "only has one numeric column. Here are a few more data queries using the\n",
    "contributors table:"
   ]
  },
  {
   "cell_type": "code",
   "execution_count": null,
   "id": "dfecf3cf",
   "metadata": {},
   "outputs": [],
   "source": [
    "dfcontr.amount.max()"
   ]
  },
  {
   "cell_type": "code",
   "execution_count": null,
   "id": "7b148b1d",
   "metadata": {},
   "outputs": [],
   "source": [
    "dfcontr[dfcontr.amount==dfcontr.amount.max()]"
   ]
  },
  {
   "cell_type": "code",
   "execution_count": null,
   "id": "6515bac7",
   "metadata": {},
   "outputs": [],
   "source": [
    "dfcontr.groupby(\"state\").sum()"
   ]
  },
  {
   "cell_type": "code",
   "execution_count": null,
   "id": "3759b090",
   "metadata": {},
   "outputs": [],
   "source": [
    "dfcontr.groupby(\"state\")[\"amount\"].sum()"
   ]
  },
  {
   "cell_type": "code",
   "execution_count": null,
   "id": "a6a0175d",
   "metadata": {},
   "outputs": [],
   "source": [
    "dfcontr.state.unique()"
   ]
  },
  {
   "cell_type": "markdown",
   "id": "c727e2fd",
   "metadata": {},
   "source": [
    "There is also a version of the `LIMIT` clause in SQL.  It's very intuitive\n",
    "using Pandas in Python:"
   ]
  },
  {
   "cell_type": "code",
   "execution_count": null,
   "id": "3c2b94df",
   "metadata": {},
   "outputs": [],
   "source": [
    "dfcand[0:3]"
   ]
  },
  {
   "cell_type": "markdown",
   "id": "0b61964d",
   "metadata": {},
   "source": [
    "The usual Python slicing works just fine!\n"
   ]
  },
  {
   "cell_type": "markdown",
   "id": "9b1c9e3d",
   "metadata": {},
   "source": [
    "## Do the following:\n",
    "\n",
    "Use the `describe()` method on the `contributors` table."
   ]
  },
  {
   "cell_type": "markdown",
   "id": "cc537cb1",
   "metadata": {},
   "source": [
    "## Joins with Pandas"
   ]
  },
  {
   "cell_type": "markdown",
   "id": "5d6a729a",
   "metadata": {},
   "source": [
    "Pandas has some documentation on `joins`:  [Merge, join, and\n",
    "concatenate](http://pandas.pydata.org/pandas-docs/stable/merging.html).  If you\n",
    "want some more reinforcement on the concepts from earlier regarding `JOIN`, then\n",
    "the Pandas documentation may be a good place to get it.\n",
    "\n",
    "You may also be interested in [a comparison with\n",
    "SQL](http://pandas.pydata.org/pandas-docs/stable/comparison_with_sql.html#compare-with-sql-join).\n",
    "\n",
    "> To do joins with Pandas, we use the `merge` method.\n",
    "\n",
    "Here's an example of an explicit inner join:"
   ]
  },
  {
   "cell_type": "code",
   "execution_count": null,
   "id": "7f956838",
   "metadata": {},
   "outputs": [],
   "source": [
    "cols_wanted = ['last_name_x', 'first_name_x', 'candidate_id', 'id', 'last_name_y', 'amount']\n",
    "dfcontr.merge(dfcand, left_on=\"candidate_id\", right_on=\"id\")[cols_wanted]"
   ]
  },
  {
   "cell_type": "markdown",
   "id": "842f3710",
   "metadata": {},
   "source": [
    "Somewhat more organized with additional grouping and description of resulting\n",
    "data frame:"
   ]
  },
  {
   "cell_type": "code",
   "execution_count": null,
   "id": "7322f44e",
   "metadata": {},
   "outputs": [],
   "source": [
    "dfcontr.merge(dfcand, left_on=\"candidate_id\", right_on=\"id\")[cols_wanted].groupby('last_name_y').describe()"
   ]
  },
  {
   "cell_type": "markdown",
   "id": "79bcc62c",
   "metadata": {},
   "source": [
    "### Other Joins with Pandas\n",
    "\n",
    "We didn't cover all possible joins because SQLite can only handle the few that\n",
    "we did discuss.  As mentioned, there are workarounds for some things in\n",
    "SQLite, but not everything.  Fortunately, Pandas can handle pretty much\n",
    "everything.  Here are a few joins that Pandas can handle:\n",
    "\n",
    "* `LEFT OUTER`: discussed above\n",
    "* `RIGHT OUTER`: think of the \"opposite\" of a `LEFT OUTER` join (shade the\n",
    "  intersection and *right* set in the Venn diagram).\n",
    "* `FULL OUTER`: combine everything from both tables (shade the entire Venn\n",
    "  diagram)\n",
    "\n",
    "Lets build the tables from the join exercise above in Pandas:"
   ]
  },
  {
   "cell_type": "code",
   "execution_count": null,
   "id": "b7eea35c",
   "metadata": {
    "lines_to_next_cell": 2
   },
   "outputs": [],
   "source": [
    "df_A = pd.DataFrame(\n",
    "    {\n",
    "        'nA': ['s1', 's2', 's3', 's4'],\n",
    "        'attr': [23, 7, 15, 31],\n",
    "        'id': [0, 2, 3, 7]\n",
    "    }\n",
    ")\n",
    "\n",
    "df_B = pd.DataFrame(\n",
    "    {\n",
    "        'nB': ['t1', 't2', 't3'],\n",
    "        'attr': [60, 14, 22],\n",
    "        'id': [0, 7, 2]\n",
    "    }\n",
    ")"
   ]
  },
  {
   "cell_type": "markdown",
   "id": "98fcc8c4",
   "metadata": {},
   "source": [
    "#### Left Outer Join with Pandas"
   ]
  },
  {
   "cell_type": "code",
   "execution_count": null,
   "id": "a0dd2148",
   "metadata": {},
   "outputs": [],
   "source": [
    "df_A.merge(df_B, left_on='id', right_on='id', how='left')"
   ]
  },
  {
   "cell_type": "markdown",
   "id": "862e7b92",
   "metadata": {},
   "source": [
    "#### Right Outer Join with Pandas"
   ]
  },
  {
   "cell_type": "code",
   "execution_count": null,
   "id": "c8dd4523",
   "metadata": {},
   "outputs": [],
   "source": [
    "df_A.merge(df_B, left_on='id', right_on='id', how='right')"
   ]
  },
  {
   "cell_type": "markdown",
   "id": "53eceb9e",
   "metadata": {},
   "source": [
    "#### Full Outer Join with Pandas"
   ]
  },
  {
   "cell_type": "code",
   "execution_count": null,
   "id": "531b99f2",
   "metadata": {},
   "outputs": [],
   "source": [
    "df_A.merge(df_B, left_on='id', right_on='id', how='outer')"
   ]
  },
  {
   "cell_type": "markdown",
   "id": "2c8822c6",
   "metadata": {},
   "source": [
    "# Save our databases\n",
    "\n",
    "Commit the changes to the open SQL databases and close them.  Well done!"
   ]
  },
  {
   "cell_type": "code",
   "execution_count": null,
   "id": "0d994c14",
   "metadata": {},
   "outputs": [],
   "source": [
    "db.commit()\n",
    "db.close()"
   ]
  }
 ],
 "metadata": {
  "kernelspec": {
   "display_name": "Python 3",
   "language": "python",
   "name": "python3"
  }
 },
 "nbformat": 4,
 "nbformat_minor": 5
}
